{
  "cells": [
    {
      "cell_type": "markdown",
      "metadata": {},
      "source": [
        "# Steel Plate Faults - Ensemble"
      ]
    },
    {
      "cell_type": "code",
      "execution_count": 9,
      "metadata": {
        "trusted": true
      },
      "outputs": [],
      "source": [
        "import numpy as np\n",
        "from sklearn.metrics import accuracy_score\n",
        "from sklearn.metrics import classification_report\n",
        "from sklearn.model_selection import train_test_split\n",
        "from sklearn.tree import DecisionTreeClassifier\n",
        "from sklearn.ensemble import RandomForestClassifier\n",
        "from sklearn.svm import SVC\n",
        "from sklearn.neighbors import KNeighborsClassifier\n",
        "from sklearn.linear_model import LogisticRegression\n",
        "import seaborn as sns\n",
        "import pandas as pd\n",
        "import matplotlib.pyplot as plt\n",
        "from sklearn.preprocessing import MinMaxScaler\n",
        "\n",
        "\n"
      ]
    },
    {
      "cell_type": "markdown",
      "metadata": {},
      "source": [
        "# Dataset Loading"
      ]
    },
    {
      "cell_type": "code",
      "execution_count": 10,
      "metadata": {},
      "outputs": [
        {
          "data": {
            "text/html": [
              "<div>\n",
              "<style scoped>\n",
              "    .dataframe tbody tr th:only-of-type {\n",
              "        vertical-align: middle;\n",
              "    }\n",
              "\n",
              "    .dataframe tbody tr th {\n",
              "        vertical-align: top;\n",
              "    }\n",
              "\n",
              "    .dataframe thead th {\n",
              "        text-align: right;\n",
              "    }\n",
              "</style>\n",
              "<table border=\"1\" class=\"dataframe\">\n",
              "  <thead>\n",
              "    <tr style=\"text-align: right;\">\n",
              "      <th></th>\n",
              "      <th>X_Minimum</th>\n",
              "      <th>X_Maximum</th>\n",
              "      <th>Y_Minimum</th>\n",
              "      <th>Y_Maximum</th>\n",
              "      <th>Pixels_Areas</th>\n",
              "      <th>X_Perimeter</th>\n",
              "      <th>Y_Perimeter</th>\n",
              "      <th>Sum_of_Luminosity</th>\n",
              "      <th>Minimum_of_Luminosity</th>\n",
              "      <th>Maximum_of_Luminosity</th>\n",
              "      <th>...</th>\n",
              "      <th>Orientation_Index</th>\n",
              "      <th>Luminosity_Index</th>\n",
              "      <th>SigmoidOfAreas</th>\n",
              "      <th>Pastry</th>\n",
              "      <th>Z_Scratch</th>\n",
              "      <th>K_Scatch</th>\n",
              "      <th>Stains</th>\n",
              "      <th>Dirtiness</th>\n",
              "      <th>Bumps</th>\n",
              "      <th>Other_Faults</th>\n",
              "    </tr>\n",
              "  </thead>\n",
              "  <tbody>\n",
              "    <tr>\n",
              "      <th>0</th>\n",
              "      <td>42</td>\n",
              "      <td>50</td>\n",
              "      <td>270900</td>\n",
              "      <td>270944</td>\n",
              "      <td>267</td>\n",
              "      <td>17</td>\n",
              "      <td>44</td>\n",
              "      <td>24220</td>\n",
              "      <td>76</td>\n",
              "      <td>108</td>\n",
              "      <td>...</td>\n",
              "      <td>0.8182</td>\n",
              "      <td>-0.2913</td>\n",
              "      <td>0.5822</td>\n",
              "      <td>1</td>\n",
              "      <td>0</td>\n",
              "      <td>0</td>\n",
              "      <td>0</td>\n",
              "      <td>0</td>\n",
              "      <td>0</td>\n",
              "      <td>0</td>\n",
              "    </tr>\n",
              "    <tr>\n",
              "      <th>1</th>\n",
              "      <td>645</td>\n",
              "      <td>651</td>\n",
              "      <td>2538079</td>\n",
              "      <td>2538108</td>\n",
              "      <td>108</td>\n",
              "      <td>10</td>\n",
              "      <td>30</td>\n",
              "      <td>11397</td>\n",
              "      <td>84</td>\n",
              "      <td>123</td>\n",
              "      <td>...</td>\n",
              "      <td>0.7931</td>\n",
              "      <td>-0.1756</td>\n",
              "      <td>0.2984</td>\n",
              "      <td>1</td>\n",
              "      <td>0</td>\n",
              "      <td>0</td>\n",
              "      <td>0</td>\n",
              "      <td>0</td>\n",
              "      <td>0</td>\n",
              "      <td>0</td>\n",
              "    </tr>\n",
              "    <tr>\n",
              "      <th>2</th>\n",
              "      <td>829</td>\n",
              "      <td>835</td>\n",
              "      <td>1553913</td>\n",
              "      <td>1553931</td>\n",
              "      <td>71</td>\n",
              "      <td>8</td>\n",
              "      <td>19</td>\n",
              "      <td>7972</td>\n",
              "      <td>99</td>\n",
              "      <td>125</td>\n",
              "      <td>...</td>\n",
              "      <td>0.6667</td>\n",
              "      <td>-0.1228</td>\n",
              "      <td>0.2150</td>\n",
              "      <td>1</td>\n",
              "      <td>0</td>\n",
              "      <td>0</td>\n",
              "      <td>0</td>\n",
              "      <td>0</td>\n",
              "      <td>0</td>\n",
              "      <td>0</td>\n",
              "    </tr>\n",
              "    <tr>\n",
              "      <th>3</th>\n",
              "      <td>853</td>\n",
              "      <td>860</td>\n",
              "      <td>369370</td>\n",
              "      <td>369415</td>\n",
              "      <td>176</td>\n",
              "      <td>13</td>\n",
              "      <td>45</td>\n",
              "      <td>18996</td>\n",
              "      <td>99</td>\n",
              "      <td>126</td>\n",
              "      <td>...</td>\n",
              "      <td>0.8444</td>\n",
              "      <td>-0.1568</td>\n",
              "      <td>0.5212</td>\n",
              "      <td>1</td>\n",
              "      <td>0</td>\n",
              "      <td>0</td>\n",
              "      <td>0</td>\n",
              "      <td>0</td>\n",
              "      <td>0</td>\n",
              "      <td>0</td>\n",
              "    </tr>\n",
              "    <tr>\n",
              "      <th>4</th>\n",
              "      <td>1289</td>\n",
              "      <td>1306</td>\n",
              "      <td>498078</td>\n",
              "      <td>498335</td>\n",
              "      <td>2409</td>\n",
              "      <td>60</td>\n",
              "      <td>260</td>\n",
              "      <td>246930</td>\n",
              "      <td>37</td>\n",
              "      <td>126</td>\n",
              "      <td>...</td>\n",
              "      <td>0.9338</td>\n",
              "      <td>-0.1992</td>\n",
              "      <td>1.0000</td>\n",
              "      <td>1</td>\n",
              "      <td>0</td>\n",
              "      <td>0</td>\n",
              "      <td>0</td>\n",
              "      <td>0</td>\n",
              "      <td>0</td>\n",
              "      <td>0</td>\n",
              "    </tr>\n",
              "  </tbody>\n",
              "</table>\n",
              "<p>5 rows × 34 columns</p>\n",
              "</div>"
            ],
            "text/plain": [
              "   X_Minimum  X_Maximum  Y_Minimum  Y_Maximum  Pixels_Areas  X_Perimeter  \\\n",
              "0         42         50     270900     270944           267           17   \n",
              "1        645        651    2538079    2538108           108           10   \n",
              "2        829        835    1553913    1553931            71            8   \n",
              "3        853        860     369370     369415           176           13   \n",
              "4       1289       1306     498078     498335          2409           60   \n",
              "\n",
              "   Y_Perimeter  Sum_of_Luminosity  Minimum_of_Luminosity  \\\n",
              "0           44              24220                     76   \n",
              "1           30              11397                     84   \n",
              "2           19               7972                     99   \n",
              "3           45              18996                     99   \n",
              "4          260             246930                     37   \n",
              "\n",
              "   Maximum_of_Luminosity  ...  Orientation_Index  Luminosity_Index  \\\n",
              "0                    108  ...             0.8182           -0.2913   \n",
              "1                    123  ...             0.7931           -0.1756   \n",
              "2                    125  ...             0.6667           -0.1228   \n",
              "3                    126  ...             0.8444           -0.1568   \n",
              "4                    126  ...             0.9338           -0.1992   \n",
              "\n",
              "   SigmoidOfAreas  Pastry  Z_Scratch  K_Scatch  Stains  Dirtiness  Bumps  \\\n",
              "0          0.5822       1          0         0       0          0      0   \n",
              "1          0.2984       1          0         0       0          0      0   \n",
              "2          0.2150       1          0         0       0          0      0   \n",
              "3          0.5212       1          0         0       0          0      0   \n",
              "4          1.0000       1          0         0       0          0      0   \n",
              "\n",
              "   Other_Faults  \n",
              "0             0  \n",
              "1             0  \n",
              "2             0  \n",
              "3             0  \n",
              "4             0  \n",
              "\n",
              "[5 rows x 34 columns]"
            ]
          },
          "execution_count": 10,
          "metadata": {},
          "output_type": "execute_result"
        }
      ],
      "source": [
        "data = pd.read_csv('faults.csv')\n",
        "data.head()"
      ]
    },
    {
      "cell_type": "code",
      "execution_count": 11,
      "metadata": {
        "trusted": true
      },
      "outputs": [],
      "source": [
        "data.drop('TypeOfSteel_A400', axis = 1)\n",
        "features = data.values\n",
        "labels = features[:,27:34]\n",
        "features = features[:,0:27]"
      ]
    },
    {
      "cell_type": "code",
      "execution_count": 12,
      "metadata": {
        "trusted": true
      },
      "outputs": [],
      "source": [
        "labels = [np.argmax(row) for row in labels]\n",
        "\n",
        "x_train1, x_test, y_train1, y_test = train_test_split(features, labels,test_size=0.30,random_state=42)\n",
        "\n",
        "x_train, x_val, y_train, y_val = train_test_split(x_train1, y_train1,test_size=0.30,random_state=17)"
      ]
    },
    {
      "cell_type": "markdown",
      "metadata": {},
      "source": [
        "# SVM Model Training with MinMax Scaler and Accuracy"
      ]
    },
    {
      "cell_type": "code",
      "execution_count": 13,
      "metadata": {
        "trusted": true
      },
      "outputs": [
        {
          "data": {
            "text/plain": [
              "0.04631217838765009"
            ]
          },
          "execution_count": 13,
          "metadata": {},
          "output_type": "execute_result"
        }
      ],
      "source": [
        "from sklearn.preprocessing import MinMaxScaler\n",
        "\n",
        "scaler = MinMaxScaler()\n",
        "x_train1_scaled = scaler.fit_transform(x_train1)\n",
        "x_test_scaled = scaler.transform(x_test)\n",
        "\n",
        "svm_model_linear = SVC(kernel='linear', C=1).fit(x_train1_scaled, y_train1)\n",
        "svm_predictions = svm_model_linear.predict(x_test) \n",
        "  \n",
        "# model accuracy for X_test   \n",
        "accuracy = svm_model_linear.score(x_test, y_test)\n",
        "accuracy"
      ]
    },
    {
      "cell_type": "markdown",
      "metadata": {},
      "source": [
        "# Decision Tree Classifier"
      ]
    },
    {
      "cell_type": "code",
      "execution_count": 14,
      "metadata": {
        "trusted": true
      },
      "outputs": [],
      "source": [
        "model1 = DecisionTreeClassifier(criterion=\"entropy\")\n",
        "model1.fit(x_train, y_train)\n",
        "val_pred1=model1.predict(x_val)\n",
        "test_pred1=model1.predict(x_test)\n",
        "val_pred1=pd.DataFrame(val_pred1)\n",
        "test_pred1=pd.DataFrame(test_pred1)\n",
        "\n"
      ]
    },
    {
      "cell_type": "markdown",
      "metadata": {},
      "source": [
        "# KNeighbors Classifier"
      ]
    },
    {
      "cell_type": "code",
      "execution_count": 15,
      "metadata": {},
      "outputs": [],
      "source": [
        "model2 = KNeighborsClassifier(n_neighbors=1)\n",
        "model2.fit(x_train,y_train)\n",
        "val_pred2=model2.predict(x_val)\n",
        "test_pred2=model2.predict(x_test)\n",
        "val_pred2=pd.DataFrame(val_pred2)\n",
        "test_pred2=pd.DataFrame(test_pred2)"
      ]
    },
    {
      "cell_type": "markdown",
      "metadata": {},
      "source": [
        "# Combine Predictions"
      ]
    },
    {
      "cell_type": "code",
      "execution_count": 16,
      "metadata": {
        "trusted": true
      },
      "outputs": [],
      "source": [
        "x_val=pd.DataFrame(x_val)\n",
        "x_test=pd.DataFrame(x_test)\n",
        "\n",
        "df_val=pd.concat([x_val, val_pred1,val_pred2],axis=1)\n",
        "df_test=pd.concat([x_test, test_pred1,test_pred2],axis=1)\n"
      ]
    },
    {
      "cell_type": "markdown",
      "metadata": {},
      "source": [
        "# Logistic Regression Ensemble"
      ]
    },
    {
      "cell_type": "code",
      "execution_count": 17,
      "metadata": {},
      "outputs": [
        {
          "name": "stdout",
          "output_type": "stream",
          "text": [
            "Ensemble Model Accuracy: 0.4922813036020583\n"
          ]
        },
        {
          "name": "stderr",
          "output_type": "stream",
          "text": [
            "C:\\Users\\Pranesh\\AppData\\Local\\Packages\\PythonSoftwareFoundation.Python.3.11_qbz5n2kfra8p0\\LocalCache\\local-packages\\Python311\\site-packages\\sklearn\\linear_model\\_logistic.py:458: ConvergenceWarning: lbfgs failed to converge (status=1):\n",
            "STOP: TOTAL NO. of ITERATIONS REACHED LIMIT.\n",
            "\n",
            "Increase the number of iterations (max_iter) or scale the data as shown in:\n",
            "    https://scikit-learn.org/stable/modules/preprocessing.html\n",
            "Please also refer to the documentation for alternative solver options:\n",
            "    https://scikit-learn.org/stable/modules/linear_model.html#logistic-regression\n",
            "  n_iter_i = _check_optimize_result(\n"
          ]
        }
      ],
      "source": [
        "ensemble_model = LogisticRegression()\n",
        "ensemble_model.fit(df_val, y_val)\n",
        "\n",
        "ensemble_accuracy = ensemble_model.score(df_test, y_test)\n",
        "print(\"Ensemble Model Accuracy:\", ensemble_accuracy)"
      ]
    }
  ],
  "metadata": {
    "kernelspec": {
      "display_name": "Python 3",
      "language": "python",
      "name": "python3"
    },
    "language_info": {
      "codemirror_mode": {
        "name": "ipython",
        "version": 3
      },
      "file_extension": ".py",
      "mimetype": "text/x-python",
      "name": "python",
      "nbconvert_exporter": "python",
      "pygments_lexer": "ipython3",
      "version": "3.11.3"
    }
  },
  "nbformat": 4,
  "nbformat_minor": 2
}
