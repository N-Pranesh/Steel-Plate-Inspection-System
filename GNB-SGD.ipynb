{
  "cells": [
    {
      "cell_type": "markdown",
      "metadata": {},
      "source": [
        "# Steel Plate Faults - GNB and SGD"
      ]
    },
    {
      "cell_type": "code",
      "execution_count": 56,
      "metadata": {
        "trusted": true
      },
      "outputs": [],
      "source": [
        "import numpy as np\n",
        "from sklearn.metrics import accuracy_score\n",
        "from sklearn.metrics import classification_report\n",
        "from sklearn.model_selection import train_test_split\n",
        "from sklearn.naive_bayes import GaussianNB\n",
        "import seaborn as sns\n",
        "import pandas as pd\n",
        "import matplotlib.pyplot as plt\n",
        "from sklearn.preprocessing import StandardScaler"
      ]
    },
    {
      "cell_type": "markdown",
      "metadata": {},
      "source": [
        "# Dataset Loading"
      ]
    },
    {
      "cell_type": "code",
      "execution_count": 57,
      "metadata": {
        "trusted": true
      },
      "outputs": [
        {
          "data": {
            "text/html": [
              "<div>\n",
              "<style scoped>\n",
              "    .dataframe tbody tr th:only-of-type {\n",
              "        vertical-align: middle;\n",
              "    }\n",
              "\n",
              "    .dataframe tbody tr th {\n",
              "        vertical-align: top;\n",
              "    }\n",
              "\n",
              "    .dataframe thead th {\n",
              "        text-align: right;\n",
              "    }\n",
              "</style>\n",
              "<table border=\"1\" class=\"dataframe\">\n",
              "  <thead>\n",
              "    <tr style=\"text-align: right;\">\n",
              "      <th></th>\n",
              "      <th>X_Minimum</th>\n",
              "      <th>X_Maximum</th>\n",
              "      <th>Y_Minimum</th>\n",
              "      <th>Y_Maximum</th>\n",
              "      <th>Pixels_Areas</th>\n",
              "      <th>X_Perimeter</th>\n",
              "      <th>Y_Perimeter</th>\n",
              "      <th>Sum_of_Luminosity</th>\n",
              "      <th>Minimum_of_Luminosity</th>\n",
              "      <th>Maximum_of_Luminosity</th>\n",
              "      <th>...</th>\n",
              "      <th>Orientation_Index</th>\n",
              "      <th>Luminosity_Index</th>\n",
              "      <th>SigmoidOfAreas</th>\n",
              "      <th>Pastry</th>\n",
              "      <th>Z_Scratch</th>\n",
              "      <th>K_Scatch</th>\n",
              "      <th>Stains</th>\n",
              "      <th>Dirtiness</th>\n",
              "      <th>Bumps</th>\n",
              "      <th>Other_Faults</th>\n",
              "    </tr>\n",
              "  </thead>\n",
              "  <tbody>\n",
              "    <tr>\n",
              "      <th>0</th>\n",
              "      <td>42</td>\n",
              "      <td>50</td>\n",
              "      <td>270900</td>\n",
              "      <td>270944</td>\n",
              "      <td>267</td>\n",
              "      <td>17</td>\n",
              "      <td>44</td>\n",
              "      <td>24220</td>\n",
              "      <td>76</td>\n",
              "      <td>108</td>\n",
              "      <td>...</td>\n",
              "      <td>0.8182</td>\n",
              "      <td>-0.2913</td>\n",
              "      <td>0.5822</td>\n",
              "      <td>1</td>\n",
              "      <td>0</td>\n",
              "      <td>0</td>\n",
              "      <td>0</td>\n",
              "      <td>0</td>\n",
              "      <td>0</td>\n",
              "      <td>0</td>\n",
              "    </tr>\n",
              "    <tr>\n",
              "      <th>1</th>\n",
              "      <td>645</td>\n",
              "      <td>651</td>\n",
              "      <td>2538079</td>\n",
              "      <td>2538108</td>\n",
              "      <td>108</td>\n",
              "      <td>10</td>\n",
              "      <td>30</td>\n",
              "      <td>11397</td>\n",
              "      <td>84</td>\n",
              "      <td>123</td>\n",
              "      <td>...</td>\n",
              "      <td>0.7931</td>\n",
              "      <td>-0.1756</td>\n",
              "      <td>0.2984</td>\n",
              "      <td>1</td>\n",
              "      <td>0</td>\n",
              "      <td>0</td>\n",
              "      <td>0</td>\n",
              "      <td>0</td>\n",
              "      <td>0</td>\n",
              "      <td>0</td>\n",
              "    </tr>\n",
              "    <tr>\n",
              "      <th>2</th>\n",
              "      <td>829</td>\n",
              "      <td>835</td>\n",
              "      <td>1553913</td>\n",
              "      <td>1553931</td>\n",
              "      <td>71</td>\n",
              "      <td>8</td>\n",
              "      <td>19</td>\n",
              "      <td>7972</td>\n",
              "      <td>99</td>\n",
              "      <td>125</td>\n",
              "      <td>...</td>\n",
              "      <td>0.6667</td>\n",
              "      <td>-0.1228</td>\n",
              "      <td>0.2150</td>\n",
              "      <td>1</td>\n",
              "      <td>0</td>\n",
              "      <td>0</td>\n",
              "      <td>0</td>\n",
              "      <td>0</td>\n",
              "      <td>0</td>\n",
              "      <td>0</td>\n",
              "    </tr>\n",
              "    <tr>\n",
              "      <th>3</th>\n",
              "      <td>853</td>\n",
              "      <td>860</td>\n",
              "      <td>369370</td>\n",
              "      <td>369415</td>\n",
              "      <td>176</td>\n",
              "      <td>13</td>\n",
              "      <td>45</td>\n",
              "      <td>18996</td>\n",
              "      <td>99</td>\n",
              "      <td>126</td>\n",
              "      <td>...</td>\n",
              "      <td>0.8444</td>\n",
              "      <td>-0.1568</td>\n",
              "      <td>0.5212</td>\n",
              "      <td>1</td>\n",
              "      <td>0</td>\n",
              "      <td>0</td>\n",
              "      <td>0</td>\n",
              "      <td>0</td>\n",
              "      <td>0</td>\n",
              "      <td>0</td>\n",
              "    </tr>\n",
              "    <tr>\n",
              "      <th>4</th>\n",
              "      <td>1289</td>\n",
              "      <td>1306</td>\n",
              "      <td>498078</td>\n",
              "      <td>498335</td>\n",
              "      <td>2409</td>\n",
              "      <td>60</td>\n",
              "      <td>260</td>\n",
              "      <td>246930</td>\n",
              "      <td>37</td>\n",
              "      <td>126</td>\n",
              "      <td>...</td>\n",
              "      <td>0.9338</td>\n",
              "      <td>-0.1992</td>\n",
              "      <td>1.0000</td>\n",
              "      <td>1</td>\n",
              "      <td>0</td>\n",
              "      <td>0</td>\n",
              "      <td>0</td>\n",
              "      <td>0</td>\n",
              "      <td>0</td>\n",
              "      <td>0</td>\n",
              "    </tr>\n",
              "  </tbody>\n",
              "</table>\n",
              "<p>5 rows × 31 columns</p>\n",
              "</div>"
            ],
            "text/plain": [
              "   X_Minimum  X_Maximum  Y_Minimum  Y_Maximum  Pixels_Areas  X_Perimeter  \\\n",
              "0         42         50     270900     270944           267           17   \n",
              "1        645        651    2538079    2538108           108           10   \n",
              "2        829        835    1553913    1553931            71            8   \n",
              "3        853        860     369370     369415           176           13   \n",
              "4       1289       1306     498078     498335          2409           60   \n",
              "\n",
              "   Y_Perimeter  Sum_of_Luminosity  Minimum_of_Luminosity  \\\n",
              "0           44              24220                     76   \n",
              "1           30              11397                     84   \n",
              "2           19               7972                     99   \n",
              "3           45              18996                     99   \n",
              "4          260             246930                     37   \n",
              "\n",
              "   Maximum_of_Luminosity  ...  Orientation_Index  Luminosity_Index  \\\n",
              "0                    108  ...             0.8182           -0.2913   \n",
              "1                    123  ...             0.7931           -0.1756   \n",
              "2                    125  ...             0.6667           -0.1228   \n",
              "3                    126  ...             0.8444           -0.1568   \n",
              "4                    126  ...             0.9338           -0.1992   \n",
              "\n",
              "   SigmoidOfAreas  Pastry  Z_Scratch  K_Scatch  Stains  Dirtiness  Bumps  \\\n",
              "0          0.5822       1          0         0       0          0      0   \n",
              "1          0.2984       1          0         0       0          0      0   \n",
              "2          0.2150       1          0         0       0          0      0   \n",
              "3          0.5212       1          0         0       0          0      0   \n",
              "4          1.0000       1          0         0       0          0      0   \n",
              "\n",
              "   Other_Faults  \n",
              "0             0  \n",
              "1             0  \n",
              "2             0  \n",
              "3             0  \n",
              "4             0  \n",
              "\n",
              "[5 rows x 31 columns]"
            ]
          },
          "execution_count": 57,
          "metadata": {},
          "output_type": "execute_result"
        }
      ],
      "source": [
        "data = pd.read_csv('faults.csv')\n",
        "data.drop('TypeOfSteel_A300', axis = 1, inplace=True)\n",
        "data.drop('TypeOfSteel_A400', axis = 1, inplace=True)\n",
        "data.drop('Outside_Global_Index', axis = 1, inplace=True)\n",
        "data.head()"
      ]
    },
    {
      "cell_type": "code",
      "execution_count": 58,
      "metadata": {
        "trusted": true
      },
      "outputs": [],
      "source": [
        "features = data.values\n",
        "labels = features[:,24:31]\n",
        "features = features[:,0:24]"
      ]
    },
    {
      "cell_type": "code",
      "execution_count": 59,
      "metadata": {
        "trusted": true
      },
      "outputs": [],
      "source": [
        "labels = [np.argmax(row) for row in labels]\n",
        "features_train, features_test, labels_train, labels_test = train_test_split(features, labels,test_size=0.30,random_state=12)"
      ]
    },
    {
      "cell_type": "markdown",
      "metadata": {},
      "source": [
        "# Gaussian Naive Bayes Classifier"
      ]
    },
    {
      "cell_type": "code",
      "execution_count": 60,
      "metadata": {
        "trusted": true
      },
      "outputs": [
        {
          "name": "stdout",
          "output_type": "stream",
          "text": [
            "Accuracy : 0.4665523156089194\n"
          ]
        }
      ],
      "source": [
        "clf = GaussianNB()\n",
        "clf.fit(features_train,labels_train)\n",
        "pred = clf.predict(features_test)\n",
        "\n",
        "print(\"Accuracy :\",accuracy_score(pred, labels_test))"
      ]
    },
    {
      "cell_type": "markdown",
      "metadata": {},
      "source": [
        "# Feature Scaling"
      ]
    },
    {
      "cell_type": "code",
      "execution_count": 61,
      "metadata": {
        "trusted": true
      },
      "outputs": [],
      "source": [
        "scaler = StandardScaler()\n",
        "scaler.fit(features_train)\n",
        "features_train2 = scaler.transform(features_train)\n",
        "scaler.fit(features_test)\n",
        "features_test2 = scaler.transform(features_test)\n",
        "\n"
      ]
    },
    {
      "cell_type": "markdown",
      "metadata": {},
      "source": [
        "# Stochastic Gradient Descent Classifier"
      ]
    },
    {
      "cell_type": "code",
      "execution_count": 62,
      "metadata": {},
      "outputs": [
        {
          "name": "stdout",
          "output_type": "stream",
          "text": [
            "Accuracy : 0.5540308747855918\n"
          ]
        }
      ],
      "source": [
        "from sklearn.linear_model import SGDClassifier\n",
        "sgd = SGDClassifier(loss='modified_huber')\n",
        "sgd.fit(features_train2,labels_train)\n",
        "s_pred = sgd.predict(features_test2)\n",
        "\n",
        "print(\"Accuracy :\",accuracy_score(s_pred, labels_test))"
      ]
    }
  ],
  "metadata": {
    "kernelspec": {
      "display_name": "Python 3",
      "language": "python",
      "name": "python3"
    },
    "language_info": {
      "codemirror_mode": {
        "name": "ipython",
        "version": 3
      },
      "file_extension": ".py",
      "mimetype": "text/x-python",
      "name": "python",
      "nbconvert_exporter": "python",
      "pygments_lexer": "ipython3",
      "version": "3.11.3"
    }
  },
  "nbformat": 4,
  "nbformat_minor": 2
}
